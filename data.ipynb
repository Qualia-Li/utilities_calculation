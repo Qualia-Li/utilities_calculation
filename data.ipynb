{
 "cells": [
  {
   "cell_type": "code",
   "execution_count": 4,
   "metadata": {},
   "outputs": [
    {
     "name": "stdout",
     "output_type": "stream",
     "text": [
      "--------------------\n",
      "Quanlai Li\n",
      "Water 2019-06-17 ~ 2019-08-15\n",
      "\t184.50/180*0:\t\t0.00\n",
      "Internet 2019-09\n",
      "\t0.50*/30:\t\t15.00\n",
      "Cleaning 2019-09\n",
      "\t0.33*/30:\t\t9.90\n",
      "Due:\t\t24.90\n",
      "--------------------\n",
      "--------------------\n",
      "Xu Chen\n",
      "Water 2019-06-17 ~ 2019-08-15\n",
      "\t184.50/180*60:\t\t61.50\n",
      "Internet 2019-07\n",
      "\t0.50*/31:\t\t15.50\n",
      "Internet 2019-08\n",
      "\t0.50*/31:\t\t15.50\n",
      "Internet 2019-09\n",
      "\t0.50*/30:\t\t15.00\n",
      "Cleaning 2019-09\n",
      "\t0.33*/30:\t\t9.90\n",
      "Due:\t\t117.40\n",
      "--------------------\n",
      "--------------------\n",
      "Zewei Chen\n",
      "Water 2019-06-17 ~ 2019-08-15\n",
      "\t184.50/180*60:\t\t61.50\n",
      "Internet 2019-07\n",
      "\t0.50*/31:\t\t15.50\n",
      "Internet 2019-08\n",
      "\t0.50*/31:\t\t15.50\n",
      "Internet 2019-09\n",
      "\t0.50*/30:\t\t15.00\n",
      "Cleaning 2019-09\n",
      "\t0.33*/30:\t\t9.90\n",
      "Due:\t\t117.40\n",
      "--------------------\n",
      "--------------------\n",
      "Ping Hu\n",
      "Water 2019-06-17 ~ 2019-08-15\n",
      "\t184.50/180*60:\t\t61.50\n",
      "Internet 2019-07\n",
      "\t0.50*/31:\t\t15.50\n",
      "Internet 2019-08\n",
      "\t0.50*/25:\t\t12.50\n",
      "Internet 2019-09\n",
      "\t0.50*/0:\t\t0.00\n",
      "Cleaning 2019-09\n",
      "\t0.33*/0:\t\t0.00\n",
      "Due:\t\t89.50\n",
      "--------------------\n"
     ]
    }
   ],
   "source": [
    "xu_chen = Tenant(\"Xu Chen\", start=datetime(2019, 1, 1))\n",
    "zewei_chen = Tenant(\"Zewei Chen\", start=datetime(2019, 1, 1))\n",
    "quanlai_li = Tenant(\"Quanlai Li\", start=datetime(2019, 9, 1))\n",
    "ping_hu = Tenant(\"Ping Hu\", start=datetime(2019, 5, 10), end=datetime(2019, 8, 25))\n",
    "\n",
    "Bill(start=datetime(2019, 6, 17), end=datetime(2019, 8, 15), name=\"Water 2019-06-17 ~ 2019-08-15\")\\\n",
    "    .charge_per_usage(184.5, [xu_chen, zewei_chen, quanlai_li, ping_hu])\n",
    "\n",
    "Bill(start=datetime(2019, 7, 1), end=datetime(2019, 7, 31), name=\"Internet 2019-07\")\\\n",
    "    .charge_per_day(0.5, [xu_chen, zewei_chen, ping_hu])\n",
    "Bill(start=datetime(2019, 8, 1), end=datetime(2019, 8, 31), name=\"Internet 2019-08\")\\\n",
    "    .charge_per_day(0.5, [xu_chen, zewei_chen, ping_hu])\n",
    "Bill(start=datetime(2019, 9, 1), end=datetime(2019, 9, 30), name=\"Internet 2019-09\")\\\n",
    "    .charge_per_day(0.5, [xu_chen, zewei_chen, ping_hu, quanlai_li])\n",
    "\n",
    "Bill(start=datetime(2019, 9, 1), end=datetime(2019, 9, 30), name=\"Cleaning 2019-09\")\\\n",
    "    .charge_per_day(0.33, [xu_chen, zewei_chen, ping_hu, quanlai_li])\n",
    "\n",
    "quanlai_li.check()\n",
    "xu_chen.check()\n",
    "zewei_chen.check()\n",
    "ping_hu.check()\n"
   ]
  },
  {
   "cell_type": "code",
   "execution_count": null,
   "metadata": {},
   "outputs": [],
   "source": []
  }
 ],
 "metadata": {
  "kernelspec": {
   "display_name": "Python 2",
   "language": "python",
   "name": "python2"
  },
  "language_info": {
   "codemirror_mode": {
    "name": "ipython",
    "version": 3
   },
   "file_extension": ".py",
   "mimetype": "text/x-python",
   "name": "python",
   "nbconvert_exporter": "python",
   "pygments_lexer": "ipython3",
   "version": "3.7.4"
  }
 },
 "nbformat": 4,
 "nbformat_minor": 1
}
